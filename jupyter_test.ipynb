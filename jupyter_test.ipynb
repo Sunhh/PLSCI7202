{
 "cells": [
  {
   "cell_type": "code",
   "execution_count": 4,
   "metadata": {},
   "outputs": [
    {
     "name": "stdout",
     "output_type": "stream",
     "text": [
      "Plants are example.\n"
     ]
    }
   ],
   "source": [
    "print(\"Plants are example.\")"
   ]
  },
  {
   "cell_type": "markdown",
   "metadata": {},
   "source": [
    "Ginger is a plant"
   ]
  },
  {
   "cell_type": "markdown",
   "metadata": {},
   "source": [
    "# Header 1"
   ]
  },
  {
   "cell_type": "markdown",
   "metadata": {},
   "source": [
    "## Header 2"
   ]
  },
  {
   "cell_type": "code",
   "execution_count": 7,
   "metadata": {},
   "outputs": [
    {
     "name": "stdout",
     "output_type": "stream",
     "text": [
      "Python is fun!\n"
     ]
    }
   ],
   "source": [
    "message = \"Python is fun!\"\n",
    "print(message)"
   ]
  },
  {
   "cell_type": "code",
   "execution_count": 10,
   "metadata": {},
   "outputs": [
    {
     "name": "stdout",
     "output_type": "stream",
     "text": [
      "Honghe Sun\n"
     ]
    }
   ],
   "source": [
    "name = \"honghe sun\"\n",
    "print(name.title())"
   ]
  },
  {
   "cell_type": "code",
   "execution_count": 12,
   "metadata": {},
   "outputs": [
    {
     "name": "stdout",
     "output_type": "stream",
     "text": [
      "honghe sun\n"
     ]
    }
   ],
   "source": [
    "first_name = \"honghe\"\n",
    "last_name = \"sun\"\n",
    "full_name = f\"{first_name} {last_name}\"\n",
    "print(full_name)"
   ]
  },
  {
   "cell_type": "code",
   "execution_count": 32,
   "metadata": {},
   "outputs": [
    {
     "name": "stdout",
     "output_type": "stream",
     "text": [
      "['New York', 'Pennsylvania', 'Hawaii']\n"
     ]
    }
   ],
   "source": [
    "states = [\"New York\", \"Pennsylvania\", \"Hawaii\"]\n",
    "print(states)"
   ]
  },
  {
   "cell_type": "code",
   "execution_count": 33,
   "metadata": {},
   "outputs": [
    {
     "name": "stdout",
     "output_type": "stream",
     "text": [
      "New York\n",
      "['New York', 'Pennsylvania', 'Hawaii']\n"
     ]
    }
   ],
   "source": [
    "print(states[0])\n",
    "print(states)"
   ]
  },
  {
   "cell_type": "code",
   "execution_count": 34,
   "metadata": {},
   "outputs": [
    {
     "name": "stdout",
     "output_type": "stream",
     "text": [
      "['Texas', 'Pennsylvania', 'Hawaii']\n"
     ]
    }
   ],
   "source": [
    "states[0] = 'Texas'\n",
    "print(states)"
   ]
  },
  {
   "cell_type": "code",
   "execution_count": 35,
   "metadata": {},
   "outputs": [
    {
     "name": "stdout",
     "output_type": "stream",
     "text": [
      "['Montana', 'Texas', 'Pennsylvania', 'Hawaii']\n"
     ]
    }
   ],
   "source": [
    "states.insert(0, 'Montana')\n",
    "print(states)"
   ]
  },
  {
   "cell_type": "code",
   "execution_count": 36,
   "metadata": {},
   "outputs": [
    {
     "name": "stdout",
     "output_type": "stream",
     "text": [
      "Texas\n",
      "['Montana', 'Pennsylvania', 'Hawaii']\n"
     ]
    }
   ],
   "source": [
    "popped_states = states.pop(1)\n",
    "print(popped_states)\n",
    "print(states)"
   ]
  },
  {
   "cell_type": "code",
   "execution_count": 37,
   "metadata": {},
   "outputs": [
    {
     "name": "stdout",
     "output_type": "stream",
     "text": [
      "Montana\n",
      "Pennsylvania\n",
      "Hawaii\n"
     ]
    }
   ],
   "source": [
    "for state in states:\n",
    "    print(state)"
   ]
  },
  {
   "cell_type": "code",
   "execution_count": 39,
   "metadata": {},
   "outputs": [
    {
     "name": "stdout",
     "output_type": "stream",
     "text": [
      "Montana\n",
      "Pennsylvania\n",
      "HAWAII\n"
     ]
    }
   ],
   "source": [
    "for state in states: \n",
    "    if state == \"Hawaii\":\n",
    "        print(state.upper())\n",
    "    elif state == \"New York\":\n",
    "        print(state.lower())\n",
    "    else:\n",
    "        print(state.title())"
   ]
  },
  {
   "cell_type": "code",
   "execution_count": 44,
   "metadata": {},
   "outputs": [
    {
     "name": "stdout",
     "output_type": "stream",
     "text": [
      "How is the weather?rainy\n",
      "rainy\n"
     ]
    }
   ],
   "source": [
    "def weather ():\n",
    "    \"\"\"Find out the weather\"\"\"\n",
    "    answer = input(\"How is the weather?\")\n",
    "    print(answer)\n",
    "\n",
    "weather()"
   ]
  },
  {
   "cell_type": "code",
   "execution_count": 46,
   "metadata": {},
   "outputs": [
    {
     "name": "stdout",
     "output_type": "stream",
     "text": [
      ">Atha_AT1G51370.2\n",
      "MVGGKKKTKICDKVSHEEDRISQLPEPLISEILFHLSTKDSVRTSALSTKWRYLWQSVPGLDLDPYASSNTNTIVSFVES\n",
      "FFDSHRDSWIRKLRLDLGYHHDKYDLMSWIDAATTRRIQHLDVHCFHDNKIPLSIYTCTTLVHLRLRWAVLTNPEFVSLP\n",
      "CLKIMHFENVSYPNETTLQKLISGSPVLEELILFSTMYPKGNVLQLRSDTLKRLDINEFIDVVIYAPLLQCLRAKMYSTK\n",
      "NFQIISSGFPAKLDIDFVNTGGRYQKKKVIEDILIDISRVRDLVISSNTWKEFFLYSKSRPLLQFRYISHLNARFYISDL\n",
      "EMLPTLLESCPKLESLILVMSSFNPS\n",
      ">Atha_AT1G50920.1\n",
      "MVQYNFKRITVVPNGKEFVDIILSRTQRQTPTVVHKGYKINRLRQFYMRKVKYTQTNFHAKLSAIIDEFPRLEQIHPFYG\n",
      "DLLHVLYNKDHYKLALGQVNTARNLISKISKDYVKLLKYGDSLYRCKCLKVAALGRMCTVLKRITPSLAYLEQIRQHMAR\n",
      "LPSIDPNTRTVLICGYPNVGKSSFMNKVTRADVDVQPYAFTTKSLFVGHTDYKYLRYQVIDTPGILDRPFEDRNIIEMCS\n",
      "ITALAHLRAAVLFFLDISGSCGYTIAQQAALFHSIKSLFMNKPLVIVCNKTDLMPMENISEEDRKLIEEMKSEAMKTAMG\n",
      "ASEEQVLLKMSTLTDEGVMSVKNAACERLLDQRVEAKMKSKKINDHLNRFHVAIPKPRDSIERLPCIPQVVLEAKAKEAA\n",
      "AMEKRKTEKDLEEENGGAGVYSASLKKNYILQHDEWKEDIMPEILDGHNVADFIDPDILQRLAELEREEGIREAGVEEAD\n",
      "MEMDIEKLSDEQLKQLSEIRKKKAILIKNHRLKKTVAQNRSTVPRKFDKDKKYTTKRMGRELSAMGLDPSSAMDRARSKS\n",
      "RGRKRDRSEDAGNDAMDVDDEQQSNKKQRVRSKSRAMSISRSQSRPPAHEVVPGEGFKDSTQKLSAIKISNKSHKKRDKN\n",
      "ARRGEADRVIPTLRPKHLFSGKRGKGKTDRR\n",
      ">Atha_AT1G36960.1\n",
      "MTRLLPYKGGDFLGPDFLTFIDLCVQVRGIPLPYLSELTVSFIAGTLGPILEMEFNQDTSTYVAFIRVKIRLVFIDRLRF\n",
      "FRREEAAASNTITDQTHMTSSNSSDISPASPISQPPLPASLPSHDSYFDAGIQASRLVNPRAISQHHFSSSYSDFKGKEK\n",
      "AKIKIGECSKRKKDKQVDSGT\n",
      ">Atha_AT1G44020.1\n",
      "MDSESESKLISFISQLVSRNNTDSENISCMIQTISLVSSMDLKSQPKPESKLMSLVTQTISLFNSMDLSSQPEPLRKLIS\n",
      "LIIEKLSHLNSVDSDYEPKPDSEFMSTFYETYKLQPRPEIISIIHQIYSLFISTDTNKVITLVRSLDLDYSEPEPESEFI\n",
      "SVVAVVKQIMSFANSISNSEPEWQFISSMTEMIRLISSIDLEPEWEPPMQLVALFTHTFSLLYYLDRDSELYTLIAQIIF\n",
      "IIDYTDSEPESEWGLDQLMSLSPQWKVQLVQGKFHVTGKIERKNKEKGKCQPENRHRLYLAKGEEASHFICKDCNGEDHI\n",
      "ECEKTPVEVKHLLHPKHSLQLVSQKSSIIQTRKCFCCDEDLKKIFYYCTGCDYDMNIACAEKPPVLFIDRPKWHADTLAL\n",
      "FQRQAFLTCNVCAVADSSSPIYMCPPCDFVVHQRCTGLPRVIRISRHRHRISFTTSFDEGDWSCGVCRRKIDNDYGGFSC\n",
      "IKDGCSYAAHSRCATQKNVWDGIDLEGVPEEIEEEEVEPFVTISKGVIHHFSHQNHHLRLDENRDRIYDENKLCQACIMP\n",
      "IYFGNFFSCMQCDYILQ\n",
      "\n"
     ]
    }
   ],
   "source": [
    "fasta_file = open(\"/home/bioinfo/Desktop/unix_data/sample1.fasta\", \"r\")\n",
    "if fasta_file.mode == \"r\":\n",
    "    contents = fasta_file.read()\n",
    "    print(contents)\n",
    "    fasta_file.close()\n"
   ]
  },
  {
   "cell_type": "code",
   "execution_count": 53,
   "metadata": {},
   "outputs": [
    {
     "name": "stdout",
     "output_type": "stream",
     "text": [
      ">Atha_AT1G51370.2\n",
      "MVGGKKKTKICDKVSHEEDRISQLPEPLISEILFHLSTKDSVRTSALSTKWRYLWQSVPGLDLDPYASSNTNTIVSFVES\n",
      "FFDSHRDSWIRKLRLDLGYHHDKYDLMSWIDAATTRRIQHLDVHCFHDNKIPLSIYTCTTLVHLRLRWAVLTNPEFVSLP\n",
      "CLKIMHFENVSYPNETTLQKLISGSPVLEELILFSTMYPKGNVLQLRSDTLKRLDINEFIDVVIYAPLLQCLRAKMYSTK\n",
      "NFQIISSGFPAKLDIDFVNTGGRYQKKKVIEDILIDISRVRDLVISSNTWKEFFLYSKSRPLLQFRYISHLNARFYISDL\n",
      "EMLPTLLESCPKLESLILVMSSFNPS\n",
      ">Atha_AT1G50920.1\n",
      "MVQYNFKRITVVPNGKEFVDIILSRTQRQTPTVVHKGYKINRLRQFYMRKVKYTQTNFHAKLSAIIDEFPRLEQIHPFYG\n",
      "DLLHVLYNKDHYKLALGQVNTARNLISKISKDYVKLLKYGDSLYRCKCLKVAALGRMCTVLKRITPSLAYLEQIRQHMAR\n",
      "LPSIDPNTRTVLICGYPNVGKSSFMNKVTRADVDVQPYAFTTKSLFVGHTDYKYLRYQVIDTPGILDRPFEDRNIIEMCS\n",
      "ITALAHLRAAVLFFLDISGSCGYTIAQQAALFHSIKSLFMNKPLVIVCNKTDLMPMENISEEDRKLIEEMKSEAMKTAMG\n",
      "ASEEQVLLKMSTLTDEGVMSVKNAACERLLDQRVEAKMKSKKINDHLNRFHVAIPKPRDSIERLPCIPQVVLEAKAKEAA\n",
      "AMEKRKTEKDLEEENGGAGVYSASLKKNYILQHDEWKEDIMPEILDGHNVADFIDPDILQRLAELEREEGIREAGVEEAD\n",
      "MEMDIEKLSDEQLKQLSEIRKKKAILIKNHRLKKTVAQNRSTVPRKFDKDKKYTTKRMGRELSAMGLDPSSAMDRARSKS\n",
      "RGRKRDRSEDAGNDAMDVDDEQQSNKKQRVRSKSRAMSISRSQSRPPAHEVVPGEGFKDSTQKLSAIKISNKSHKKRDKN\n",
      "ARRGEADRVIPTLRPKHLFSGKRGKGKTDRR\n",
      ">Atha_AT1G36960.1\n",
      "MTRLLPYKGGDFLGPDFLTFIDLCVQVRGIPLPYLSELTVSFIAGTLGPILEMEFNQDTSTYVAFIRVKIRLVFIDRLRF\n",
      "FRREEAAASNTITDQTHMTSSNSSDISPASPISQPPLPASLPSHDSYFDAGIQASRLVNPRAISQHHFSSSYSDFKGKEK\n",
      "AKIKIGECSKRKKDKQVDSGT\n",
      ">Atha_AT1G44020.1\n",
      "MDSESESKLISFISQLVSRNNTDSENISCMIQTISLVSSMDLKSQPKPESKLMSLVTQTISLFNSMDLSSQPEPLRKLIS\n",
      "LIIEKLSHLNSVDSDYEPKPDSEFMSTFYETYKLQPRPEIISIIHQIYSLFISTDTNKVITLVRSLDLDYSEPEPESEFI\n",
      "SVVAVVKQIMSFANSISNSEPEWQFISSMTEMIRLISSIDLEPEWEPPMQLVALFTHTFSLLYYLDRDSELYTLIAQIIF\n",
      "IIDYTDSEPESEWGLDQLMSLSPQWKVQLVQGKFHVTGKIERKNKEKGKCQPENRHRLYLAKGEEASHFICKDCNGEDHI\n",
      "ECEKTPVEVKHLLHPKHSLQLVSQKSSIIQTRKCFCCDEDLKKIFYYCTGCDYDMNIACAEKPPVLFIDRPKWHADTLAL\n",
      "FQRQAFLTCNVCAVADSSSPIYMCPPCDFVVHQRCTGLPRVIRISRHRHRISFTTSFDEGDWSCGVCRRKIDNDYGGFSC\n",
      "IKDGCSYAAHSRCATQKNVWDGIDLEGVPEEIEEEEVEPFVTISKGVIHHFSHQNHHLRLDENRDRIYDENKLCQACIMP\n",
      "IYFGNFFSCMQCDYILQ\n",
      "\n"
     ]
    }
   ],
   "source": [
    "# fasta_file = open(\"/home/bioinfo/Desktop/unix_data/sample1.fasta\", \"r\")\n",
    "with open(\"/home/bioinfo/Desktop/unix_data/sample1.fasta\", \"r\") as fasta_file: \n",
    "    if fasta_file.mode == \"r\":\n",
    "        contents = fasta_file.read()\n",
    "        outF = open(\"/home/bioinfo/Desktop/unix_data/test_out.fasta\", \"w\")\n",
    "        outF.write(contents)\n",
    "        outF.close()\n",
    "        print(contents)\n",
    "        fasta_file.close()"
   ]
  },
  {
   "cell_type": "code",
   "execution_count": null,
   "metadata": {},
   "outputs": [],
   "source": []
  }
 ],
 "metadata": {
  "kernelspec": {
   "display_name": "Python 3",
   "language": "python",
   "name": "python3"
  },
  "language_info": {
   "codemirror_mode": {
    "name": "ipython",
    "version": 3
   },
   "file_extension": ".py",
   "mimetype": "text/x-python",
   "name": "python",
   "nbconvert_exporter": "python",
   "pygments_lexer": "ipython3",
   "version": "3.8.3"
  }
 },
 "nbformat": 4,
 "nbformat_minor": 4
}
